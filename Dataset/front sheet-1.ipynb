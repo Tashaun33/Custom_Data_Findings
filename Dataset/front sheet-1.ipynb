{
 "cells": [
  {
   "cell_type": "markdown",
   "id": "e916de3b",
   "metadata": {},
   "source": [
    "its what im going to do with the raw Data... maybe clean it, or change some values let me chack the assesment criteria.\n"
   ]
  },
  {
   "cell_type": "code",
   "execution_count": 1,
   "id": "1a41cd43",
   "metadata": {},
   "outputs": [],
   "source": [
    "import numpy as np\n",
    "import pandas as pd\n",
    "import matplotlib.pyplot as plt\n",
    "import seaborn as sns\n",
    "\n"
   ]
  },
  {
   "cell_type": "markdown",
   "id": "be93dc44",
   "metadata": {},
   "source": [
    "maybe i will investigate the cost a a car by its colour...  so the data wil show on a graph or chart the cost of a blue car, a red car a , white car and an average mean, upper and lower quartile median and mode.\n"
   ]
  }
 ],
 "metadata": {
  "kernelspec": {
   "display_name": "Python 3",
   "language": "python",
   "name": "python3"
  },
  "language_info": {
   "codemirror_mode": {
    "name": "ipython",
    "version": 3
   },
   "file_extension": ".py",
   "mimetype": "text/x-python",
   "name": "python",
   "nbconvert_exporter": "python",
   "pygments_lexer": "ipython3",
   "version": "3.12.8"
  }
 },
 "nbformat": 4,
 "nbformat_minor": 5
}
