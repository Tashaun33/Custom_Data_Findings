{
 "cells": [
  {
   "cell_type": "markdown",
   "id": "e916de3b",
   "metadata": {},
   "source": [
    "its what im going to do with the raw Data... maybe clean it, or change some values let me chack the assesment criteria.\n"
   ]
  },
  {
   "cell_type": "code",
   "execution_count": 36,
   "id": "1a41cd43",
   "metadata": {},
   "outputs": [],
   "source": [
    "import numpy as np\n",
    "import pandas as pd\n",
    "import matplotlib.pyplot as plt\n",
    "import seaborn as sns\n",
    "\n"
   ]
  },
  {
   "cell_type": "markdown",
   "id": "be93dc44",
   "metadata": {},
   "source": [
    "maybe i will investigate the cost a a car by its colour...  so the data wil show on a graph or chart the cost of a blue car, a red car a , white car and an average mean, upper and lower quartile median and mode.\n"
   ]
  },
  {
   "cell_type": "markdown",
   "id": "afa0bb76",
   "metadata": {},
   "source": [
    "maybe ill note the price change from 2 door to 4 door acrooss the top and or botttom of the range compare the two and present the find- on graph or chart."
   ]
  },
  {
   "cell_type": "code",
   "execution_count": 49,
   "id": "2be9074a",
   "metadata": {},
   "outputs": [
    {
     "name": "stdout",
     "output_type": "stream",
     "text": [
      "<module 'pandas' from 'c:\\\\Users\\\\mr01w\\\\AppData\\\\Local\\\\Programs\\\\Python\\\\Python312\\\\Lib\\\\site-packages\\\\pandas\\\\__init__.py'>\n"
     ]
    }
   ],
   "source": [
    "df = pd.read_csv('carprices.csv')\n",
    "df =pd.DataFrame =['colour', 'price', 'doors']\n",
    "index=['A', 'B', 'C', 'D', 'E'],  \n",
    "columns=['Col1', 'Col2', 'Col3', 'Col4']\n",
    "\n",
    "print(pd)"
   ]
  }
 ],
 "metadata": {
  "kernelspec": {
   "display_name": "Python 3",
   "language": "python",
   "name": "python3"
  },
  "language_info": {
   "codemirror_mode": {
    "name": "ipython",
    "version": 3
   },
   "file_extension": ".py",
   "mimetype": "text/x-python",
   "name": "python",
   "nbconvert_exporter": "python",
   "pygments_lexer": "ipython3",
   "version": "3.12.8"
  }
 },
 "nbformat": 4,
 "nbformat_minor": 5
}
