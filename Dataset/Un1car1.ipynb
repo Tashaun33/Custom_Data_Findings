{
 "cells": [
  {
   "cell_type": "markdown",
   "id": "d69db191",
   "metadata": {},
   "source": [
    "# Loading carprices.csv into a DataFrame\n",
    "This code cell loads the `carprices.csv` file into a pandas DataFrame and displays the first few rows."
   ]
  }
 ],
 "metadata": {
  "kernelspec": {
   "display_name": "Python 3",
   "language": "python",
   "name": "python3"
  },
  "language_info": {
   "codemirror_mode": {
    "name": "ipython",
    "version": 3
   },
   "file_extension": ".py",
   "mimetype": "text/x-python",
   "name": "python",
   "nbconvert_exporter": "python",
   "pygments_lexer": "ipython3",
   "version": "3.12.8"
  }
 },
 "nbformat": 4,
 "nbformat_minor": 5
}
