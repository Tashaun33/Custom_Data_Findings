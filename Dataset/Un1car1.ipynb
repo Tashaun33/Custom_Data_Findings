{
 "cells": [
  {
   "cell_type": "markdown",
   "id": "d69db191",
   "metadata": {},
   "source": [
    "# Loading carprices.csv into a DataFrame\n",
    "This code cell loads the `carprices.csv` file into a pandas DataFrame and displays the first few rows."
   ]
  },
  {
   "cell_type": "code",
   "execution_count": 1,
   "id": "13aae962",
   "metadata": {},
   "outputs": [
    {
     "name": "stdout",
     "output_type": "stream",
     "text": [
      "   car_ID  symboling                   CarName fueltype aspiration doornumber  \\\n",
      "0       1          3        alfa-romero giulia      gas        std        two   \n",
      "1       2          3       alfa-romero stelvio      gas        std        two   \n",
      "2       3          1  alfa-romero Quadrifoglio      gas        std        two   \n",
      "3       4          2               audi 100 ls      gas        std       four   \n",
      "4       5          2                audi 100ls      gas        std       four   \n",
      "\n",
      "       carbody drivewheel enginelocation  wheelbase  ...  enginesize  \\\n",
      "0  convertible        rwd          front       88.6  ...         130   \n",
      "1  convertible        rwd          front       88.6  ...         130   \n",
      "2    hatchback        rwd          front       94.5  ...         152   \n",
      "3        sedan        fwd          front       99.8  ...         109   \n",
      "4        sedan        4wd          front       99.4  ...         136   \n",
      "\n",
      "   fuelsystem  boreratio  stroke compressionratio horsepower  peakrpm citympg  \\\n",
      "0        mpfi       3.47    2.68              9.0        111     5000      21   \n",
      "1        mpfi       3.47    2.68              9.0        111     5000      21   \n",
      "2        mpfi       2.68    3.47              9.0        154     5000      19   \n",
      "3        mpfi       3.19    3.40             10.0        102     5500      24   \n",
      "4        mpfi       3.19    3.40              8.0        115     5500      18   \n",
      "\n",
      "   highwaympg    price  \n",
      "0          27  13495.0  \n",
      "1          27  16500.0  \n",
      "2          26  16500.0  \n",
      "3          30  13950.0  \n",
      "4          22  17450.0  \n",
      "\n",
      "[5 rows x 26 columns]\n"
     ]
    }
   ],
   "source": [
    "import pandas as pd\n",
    "\n",
    "df = pd.read_csv('carprices.csv')\n",
    "print(df.head())"
   ]
  },
  {
   "cell_type": "code",
   "execution_count": 2,
   "id": "fdf83471",
   "metadata": {},
   "outputs": [
    {
     "name": "stdout",
     "output_type": "stream",
     "text": [
      "     car_ID  symboling          CarName fueltype aspiration doornumber  \\\n",
      "200     201         -1  volvo 145e (sw)      gas        std       four   \n",
      "201     202         -1      volvo 144ea      gas      turbo       four   \n",
      "202     203         -1      volvo 244dl      gas        std       four   \n",
      "203     204         -1        volvo 246   diesel      turbo       four   \n",
      "204     205         -1      volvo 264gl      gas      turbo       four   \n",
      "\n",
      "    carbody drivewheel enginelocation  wheelbase  ...  enginesize  fuelsystem  \\\n",
      "200   sedan        rwd          front      109.1  ...         141        mpfi   \n",
      "201   sedan        rwd          front      109.1  ...         141        mpfi   \n",
      "202   sedan        rwd          front      109.1  ...         173        mpfi   \n",
      "203   sedan        rwd          front      109.1  ...         145         idi   \n",
      "204   sedan        rwd          front      109.1  ...         141        mpfi   \n",
      "\n",
      "     boreratio  stroke compressionratio horsepower  peakrpm citympg  \\\n",
      "200       3.78    3.15              9.5        114     5400      23   \n",
      "201       3.78    3.15              8.7        160     5300      19   \n",
      "202       3.58    2.87              8.8        134     5500      18   \n",
      "203       3.01    3.40             23.0        106     4800      26   \n",
      "204       3.78    3.15              9.5        114     5400      19   \n",
      "\n",
      "     highwaympg    price  \n",
      "200          28  16845.0  \n",
      "201          25  19045.0  \n",
      "202          23  21485.0  \n",
      "203          27  22470.0  \n",
      "204          25  22625.0  \n",
      "\n",
      "[5 rows x 26 columns]\n"
     ]
    }
   ],
   "source": [
    "import pandas as pd\n",
    "\n",
    "df = pd.read_csv('carprices.csv')\n",
    "print(df.tail())"
   ]
  },
  {
   "cell_type": "code",
   "execution_count": 4,
   "id": "6636bb3e",
   "metadata": {},
   "outputs": [
    {
     "data": {
      "text/plain": [
       "car_ID                int64\n",
       "symboling             int64\n",
       "CarName              object\n",
       "fueltype             object\n",
       "aspiration           object\n",
       "doornumber           object\n",
       "carbody              object\n",
       "drivewheel           object\n",
       "enginelocation       object\n",
       "wheelbase           float64\n",
       "carlength           float64\n",
       "carwidth            float64\n",
       "carheight           float64\n",
       "curbweight            int64\n",
       "enginetype           object\n",
       "cylindernumber       object\n",
       "enginesize            int64\n",
       "fuelsystem           object\n",
       "boreratio           float64\n",
       "stroke              float64\n",
       "compressionratio    float64\n",
       "horsepower            int64\n",
       "peakrpm               int64\n",
       "citympg               int64\n",
       "highwaympg            int64\n",
       "price               float64\n",
       "dtype: object"
      ]
     },
     "execution_count": 4,
     "metadata": {},
     "output_type": "execute_result"
    }
   ],
   "source": [
    "import pandas as pd\n",
    "\n",
    "df = pd.read_csv('carprices.csv')\n",
    "df.dtypes"
   ]
  }
 ],
 "metadata": {
  "kernelspec": {
   "display_name": "Python 3",
   "language": "python",
   "name": "python3"
  },
  "language_info": {
   "codemirror_mode": {
    "name": "ipython",
    "version": 3
   },
   "file_extension": ".py",
   "mimetype": "text/x-python",
   "name": "python",
   "nbconvert_exporter": "python",
   "pygments_lexer": "ipython3",
   "version": "3.12.8"
  }
 },
 "nbformat": 4,
 "nbformat_minor": 5
}
