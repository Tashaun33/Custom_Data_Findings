{
 "cells": [
  {
   "cell_type": "code",
   "execution_count": null,
   "id": "3d9a789a",
   "metadata": {},
   "outputs": [],
   "source": []
  },
  {
   "cell_type": "markdown",
   "id": "ed2ca53d",
   "metadata": {},
   "source": [
    "This is my ETL"
   ]
  }
 ],
 "metadata": {
  "language_info": {
   "name": "python"
  }
 },
 "nbformat": 4,
 "nbformat_minor": 5
}
